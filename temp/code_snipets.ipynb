{
 "cells": [
  {
   "cell_type": "code",
   "execution_count": null,
   "metadata": {},
   "outputs": [],
   "source": [
    "# code to move files form one dir to other dir.\n",
    "for sector, value in watch_list.items():\n",
    "    for ticker in value:\n",
    "        src_fldr = \"./data/fundamentals/{sector}/{ticker}/\".format(sector=sector,ticker=ticker)\n",
    "        dst_fldr = \"./data/watchlist/{sector}/{ticker}/fundamentals/\".format(sector=sector,ticker=ticker)\n",
    "        files = glob.glob(src_fldr + \"*\")\n",
    "        for file in files:\n",
    "            file_name = os.path.basename(file)\n",
    "            dst = dst_fldr + file_name\n",
    "            shutil.move(file, dst)"
   ]
  }
 ],
 "metadata": {
  "language_info": {
   "name": "python"
  },
  "orig_nbformat": 4
 },
 "nbformat": 4,
 "nbformat_minor": 2
}
