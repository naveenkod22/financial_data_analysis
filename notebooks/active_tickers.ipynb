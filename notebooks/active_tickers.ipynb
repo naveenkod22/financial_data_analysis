{
 "cells": [
  {
   "cell_type": "code",
   "execution_count": 1,
   "metadata": {
    "tags": [
     "imports"
    ]
   },
   "outputs": [],
   "source": [
    "# Packages and functions\n",
    "import os\n",
    "import datetime\n",
    "import pandas as pd\n",
    "from glob import glob"
   ]
  },
  {
   "cell_type": "code",
   "execution_count": 11,
   "metadata": {
    "tags": [
     "User defined Functions"
    ]
   },
   "outputs": [],
   "source": [
    "def previous_day_active(df_name, path):\n",
    "    now = str(datetime.datetime.now() - datetime.datetime.now()-datetime.timedelta(1))\n",
    "    search_string = now[0:10].replace(\"-\", \"\")\n",
    "    for filename in os.listdir(path):\n",
    "        if search_string in filename:\n",
    "            file_path = os.path.join(path, filename)\n",
    "            df =pd.read_csv()\n",
    "            globals()[df_name] = pd.read_csv(file_path)\n",
    "\n",
    "\n",
    "def read_today_active(df_name, path):\n",
    "    now = str(datetime.datetime.now() - datetime.timedelta(1))\n",
    "    search_string = now[0:10].replace(\"-\", \"\")\n",
    "    for filename in os.listdir(path):\n",
    "        if search_string in filename:\n",
    "            file_path = os.path.join(path, filename)\n",
    "            globals()[df_name] = pd.read_csv(file_path)\n",
    "\n",
    "files = {'active': '../data/active/',\n",
    "        'gainers': '../data/gainers/',\n",
    "        'losers': '../data/losers/'}\n",
    "\n",
    "for k, v in files.items():\n",
    "    read_today_active(k,v)"
   ]
  },
  {
   "cell_type": "code",
   "execution_count": 33,
   "metadata": {},
   "outputs": [],
   "source": [
    "def _convert_to_numeric(s):\n",
    "        if \"M\" in s:\n",
    "            s = s.strip(\"M\")\n",
    "            return float(s) * 1_000_000\n",
    "\n",
    "        if \"B\" in s:\n",
    "            s = s.strip(\"B\")\n",
    "            return float(s)* 1_000_000_000\n",
    "\n",
    "import numpy as np\n",
    "df = pd.read_csv('../data/gainers/gainers_20230201_2230.csv')\n",
    "df.drop(columns=['Unnamed: 0'], inplace=True)\n",
    "df = df. replace(np.nan,'None') \n",
    "df[\"Avg Vol (3 month)\"] = df[\"Avg Vol (3 month)\"].apply(_convert_to_numeric)\n",
    "df[\"Market Cap\"] = df[\"Market Cap\"].apply(_convert_to_numeric)\n",
    "df.to_csv('../data/gainers/gainers_20230201_2230.csv')"
   ]
  },
  {
   "cell_type": "code",
   "execution_count": 34,
   "metadata": {},
   "outputs": [
    {
     "data": {
      "text/html": [
       "<div>\n",
       "<style scoped>\n",
       "    .dataframe tbody tr th:only-of-type {\n",
       "        vertical-align: middle;\n",
       "    }\n",
       "\n",
       "    .dataframe tbody tr th {\n",
       "        vertical-align: top;\n",
       "    }\n",
       "\n",
       "    .dataframe thead th {\n",
       "        text-align: right;\n",
       "    }\n",
       "</style>\n",
       "<table border=\"1\" class=\"dataframe\">\n",
       "  <thead>\n",
       "    <tr style=\"text-align: right;\">\n",
       "      <th></th>\n",
       "      <th>Symbol</th>\n",
       "      <th>Name</th>\n",
       "      <th>Price (Intraday)</th>\n",
       "      <th>Change</th>\n",
       "      <th>% Change</th>\n",
       "      <th>Volume</th>\n",
       "      <th>Avg Vol (3 month)</th>\n",
       "      <th>Market Cap</th>\n",
       "      <th>PE Ratio (TTM)</th>\n",
       "    </tr>\n",
       "  </thead>\n",
       "  <tbody>\n",
       "    <tr>\n",
       "      <th>0</th>\n",
       "      <td>CVNA</td>\n",
       "      <td>Carvana Co.</td>\n",
       "      <td>13.56</td>\n",
       "      <td>3.39</td>\n",
       "      <td>33.33</td>\n",
       "      <td>76.638M</td>\n",
       "      <td>27525000.0</td>\n",
       "      <td>2.408000e+09</td>\n",
       "      <td>None</td>\n",
       "    </tr>\n",
       "    <tr>\n",
       "      <th>1</th>\n",
       "      <td>RADLY</td>\n",
       "      <td>Raia Drogasil S.A.</td>\n",
       "      <td>7.80</td>\n",
       "      <td>1.90</td>\n",
       "      <td>32.20</td>\n",
       "      <td>75831</td>\n",
       "      <td>NaN</td>\n",
       "      <td>1.285200e+10</td>\n",
       "      <td>70.91</td>\n",
       "    </tr>\n",
       "    <tr>\n",
       "      <th>2</th>\n",
       "      <td>RPD</td>\n",
       "      <td>Rapid7, Inc.</td>\n",
       "      <td>52.32</td>\n",
       "      <td>12.45</td>\n",
       "      <td>31.23</td>\n",
       "      <td>11.422M</td>\n",
       "      <td>1139000.0</td>\n",
       "      <td>3.099000e+09</td>\n",
       "      <td>None</td>\n",
       "    </tr>\n",
       "    <tr>\n",
       "      <th>3</th>\n",
       "      <td>PTON</td>\n",
       "      <td>Peloton Interactive, Inc.</td>\n",
       "      <td>16.36</td>\n",
       "      <td>3.43</td>\n",
       "      <td>26.53</td>\n",
       "      <td>79.365M</td>\n",
       "      <td>12218000.0</td>\n",
       "      <td>5.563000e+09</td>\n",
       "      <td>None</td>\n",
       "    </tr>\n",
       "    <tr>\n",
       "      <th>4</th>\n",
       "      <td>HVPQF</td>\n",
       "      <td>HarbourVest Global Private Equity Ltd.</td>\n",
       "      <td>27.05</td>\n",
       "      <td>4.20</td>\n",
       "      <td>18.37</td>\n",
       "      <td>60448</td>\n",
       "      <td>NaN</td>\n",
       "      <td>2.232000e+09</td>\n",
       "      <td>2.06</td>\n",
       "    </tr>\n",
       "  </tbody>\n",
       "</table>\n",
       "</div>"
      ],
      "text/plain": [
       "  Symbol                                    Name  Price (Intraday)  Change  \\\n",
       "0   CVNA                             Carvana Co.             13.56    3.39   \n",
       "1  RADLY                      Raia Drogasil S.A.              7.80    1.90   \n",
       "2    RPD                            Rapid7, Inc.             52.32   12.45   \n",
       "3   PTON               Peloton Interactive, Inc.             16.36    3.43   \n",
       "4  HVPQF  HarbourVest Global Private Equity Ltd.             27.05    4.20   \n",
       "\n",
       "   % Change   Volume  Avg Vol (3 month)    Market Cap PE Ratio (TTM)  \n",
       "0     33.33  76.638M         27525000.0  2.408000e+09           None  \n",
       "1     32.20    75831                NaN  1.285200e+10          70.91  \n",
       "2     31.23  11.422M          1139000.0  3.099000e+09           None  \n",
       "3     26.53  79.365M         12218000.0  5.563000e+09           None  \n",
       "4     18.37    60448                NaN  2.232000e+09           2.06  "
      ]
     },
     "execution_count": 34,
     "metadata": {},
     "output_type": "execute_result"
    }
   ],
   "source": [
    "df.head()"
   ]
  },
  {
   "cell_type": "code",
   "execution_count": null,
   "metadata": {},
   "outputs": [],
   "source": []
  }
 ],
 "metadata": {
  "kernelspec": {
   "display_name": "stock_predection",
   "language": "python",
   "name": "python3"
  },
  "language_info": {
   "codemirror_mode": {
    "name": "ipython",
    "version": 3
   },
   "file_extension": ".py",
   "mimetype": "text/x-python",
   "name": "python",
   "nbconvert_exporter": "python",
   "pygments_lexer": "ipython3",
   "version": "3.10.9"
  },
  "orig_nbformat": 4,
  "vscode": {
   "interpreter": {
    "hash": "6879b9d37e5e8527874b91044e0eef2ad9bdeaac28719f88c4fc87914ebcc499"
   }
  }
 },
 "nbformat": 4,
 "nbformat_minor": 2
}
